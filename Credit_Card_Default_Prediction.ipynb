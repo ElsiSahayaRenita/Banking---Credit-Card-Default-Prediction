{
  "nbformat": 4,
  "nbformat_minor": 0,
  "metadata": {
    "colab": {
      "name": "Credit Card Default Prediction.ipynb",
      "provenance": []
    },
    "kernelspec": {
      "name": "python3",
      "display_name": "Python 3"
    },
    "language_info": {
      "name": "python"
    }
  },
  "cells": [
    {
      "cell_type": "code",
      "execution_count": 335,
      "metadata": {
        "id": "E1WcHNcNqtxx"
      },
      "outputs": [],
      "source": [
        "import pandas as pd\n",
        "import numpy as np\n",
        "import seaborn as sns\n",
        "import matplotlib.pyplot  as plt\n",
        "\n",
        "from sklearn.model_selection import train_test_split\n",
        "from sklearn.linear_model import LogisticRegression\n",
        "from sklearn.neighbors import KNeighborsClassifier\n",
        "from sklearn.tree import DecisionTreeClassifier\n",
        "from sklearn import svm\n",
        "from sklearn.ensemble import AdaBoostClassifier\n",
        "from sklearn.ensemble import GradientBoostingClassifier\n",
        "from sklearn.ensemble import RandomForestClassifier\n",
        "\n",
        "from sklearn.metrics import confusion_matrix\n",
        "from sklearn.metrics import ConfusionMatrixDisplay\n",
        "from sklearn.metrics import accuracy_score,classification_report,confusion_matrix\n"
      ]
    },
    {
      "cell_type": "code",
      "source": [
        "from google.colab import drive\n",
        "drive.mount('/content/drive')"
      ],
      "metadata": {
        "colab": {
          "base_uri": "https://localhost:8080/"
        },
        "id": "l4QiefcisgAr",
        "outputId": "487b2478-83de-415c-effe-c81a9ddd00ab"
      },
      "execution_count": 2,
      "outputs": [
        {
          "output_type": "stream",
          "name": "stdout",
          "text": [
            "Drive already mounted at /content/drive; to attempt to forcibly remount, call drive.mount(\"/content/drive\", force_remount=True).\n"
          ]
        }
      ]
    },
    {
      "cell_type": "code",
      "source": [
        "!unzip /content/drive/MyDrive/DATASETS/UCI_Credit_Card.csv.zip"
      ],
      "metadata": {
        "colab": {
          "base_uri": "https://localhost:8080/"
        },
        "id": "vF4pOz_ZtpQF",
        "outputId": "f5c068c8-9a90-43bb-e47c-973fca54586e"
      },
      "execution_count": 3,
      "outputs": [
        {
          "output_type": "stream",
          "name": "stdout",
          "text": [
            "Archive:  /content/drive/MyDrive/DATASETS/UCI_Credit_Card.csv.zip\n",
            "  inflating: UCI_Credit_Card.csv     \n"
          ]
        }
      ]
    },
    {
      "cell_type": "code",
      "source": [
        "df = pd.read_csv(\"UCI_Credit_Card.csv\")"
      ],
      "metadata": {
        "id": "O77u44oPunvO"
      },
      "execution_count": 4,
      "outputs": []
    },
    {
      "cell_type": "code",
      "source": [
        "df.head()"
      ],
      "metadata": {
        "colab": {
          "base_uri": "https://localhost:8080/",
          "height": 299
        },
        "id": "6pUUgK3vu1lT",
        "outputId": "4cfb7122-7e24-4460-a41a-1ddd72899f97"
      },
      "execution_count": 5,
      "outputs": [
        {
          "output_type": "execute_result",
          "data": {
            "text/plain": [
              "   ID  LIMIT_BAL  SEX  EDUCATION  MARRIAGE  AGE  PAY_0  PAY_2  PAY_3  PAY_4  \\\n",
              "0   1    20000.0    2          2         1   24      2      2     -1     -1   \n",
              "1   2   120000.0    2          2         2   26     -1      2      0      0   \n",
              "2   3    90000.0    2          2         2   34      0      0      0      0   \n",
              "3   4    50000.0    2          2         1   37      0      0      0      0   \n",
              "4   5    50000.0    1          2         1   57     -1      0     -1      0   \n",
              "\n",
              "   ...  BILL_AMT4  BILL_AMT5  BILL_AMT6  PAY_AMT1  PAY_AMT2  PAY_AMT3  \\\n",
              "0  ...        0.0        0.0        0.0       0.0     689.0       0.0   \n",
              "1  ...     3272.0     3455.0     3261.0       0.0    1000.0    1000.0   \n",
              "2  ...    14331.0    14948.0    15549.0    1518.0    1500.0    1000.0   \n",
              "3  ...    28314.0    28959.0    29547.0    2000.0    2019.0    1200.0   \n",
              "4  ...    20940.0    19146.0    19131.0    2000.0   36681.0   10000.0   \n",
              "\n",
              "   PAY_AMT4  PAY_AMT5  PAY_AMT6  default.payment.next.month  \n",
              "0       0.0       0.0       0.0                           1  \n",
              "1    1000.0       0.0    2000.0                           1  \n",
              "2    1000.0    1000.0    5000.0                           0  \n",
              "3    1100.0    1069.0    1000.0                           0  \n",
              "4    9000.0     689.0     679.0                           0  \n",
              "\n",
              "[5 rows x 25 columns]"
            ],
            "text/html": [
              "\n",
              "  <div id=\"df-e14bc308-7b0f-41ca-aa2d-799228a201fe\">\n",
              "    <div class=\"colab-df-container\">\n",
              "      <div>\n",
              "<style scoped>\n",
              "    .dataframe tbody tr th:only-of-type {\n",
              "        vertical-align: middle;\n",
              "    }\n",
              "\n",
              "    .dataframe tbody tr th {\n",
              "        vertical-align: top;\n",
              "    }\n",
              "\n",
              "    .dataframe thead th {\n",
              "        text-align: right;\n",
              "    }\n",
              "</style>\n",
              "<table border=\"1\" class=\"dataframe\">\n",
              "  <thead>\n",
              "    <tr style=\"text-align: right;\">\n",
              "      <th></th>\n",
              "      <th>ID</th>\n",
              "      <th>LIMIT_BAL</th>\n",
              "      <th>SEX</th>\n",
              "      <th>EDUCATION</th>\n",
              "      <th>MARRIAGE</th>\n",
              "      <th>AGE</th>\n",
              "      <th>PAY_0</th>\n",
              "      <th>PAY_2</th>\n",
              "      <th>PAY_3</th>\n",
              "      <th>PAY_4</th>\n",
              "      <th>...</th>\n",
              "      <th>BILL_AMT4</th>\n",
              "      <th>BILL_AMT5</th>\n",
              "      <th>BILL_AMT6</th>\n",
              "      <th>PAY_AMT1</th>\n",
              "      <th>PAY_AMT2</th>\n",
              "      <th>PAY_AMT3</th>\n",
              "      <th>PAY_AMT4</th>\n",
              "      <th>PAY_AMT5</th>\n",
              "      <th>PAY_AMT6</th>\n",
              "      <th>default.payment.next.month</th>\n",
              "    </tr>\n",
              "  </thead>\n",
              "  <tbody>\n",
              "    <tr>\n",
              "      <th>0</th>\n",
              "      <td>1</td>\n",
              "      <td>20000.0</td>\n",
              "      <td>2</td>\n",
              "      <td>2</td>\n",
              "      <td>1</td>\n",
              "      <td>24</td>\n",
              "      <td>2</td>\n",
              "      <td>2</td>\n",
              "      <td>-1</td>\n",
              "      <td>-1</td>\n",
              "      <td>...</td>\n",
              "      <td>0.0</td>\n",
              "      <td>0.0</td>\n",
              "      <td>0.0</td>\n",
              "      <td>0.0</td>\n",
              "      <td>689.0</td>\n",
              "      <td>0.0</td>\n",
              "      <td>0.0</td>\n",
              "      <td>0.0</td>\n",
              "      <td>0.0</td>\n",
              "      <td>1</td>\n",
              "    </tr>\n",
              "    <tr>\n",
              "      <th>1</th>\n",
              "      <td>2</td>\n",
              "      <td>120000.0</td>\n",
              "      <td>2</td>\n",
              "      <td>2</td>\n",
              "      <td>2</td>\n",
              "      <td>26</td>\n",
              "      <td>-1</td>\n",
              "      <td>2</td>\n",
              "      <td>0</td>\n",
              "      <td>0</td>\n",
              "      <td>...</td>\n",
              "      <td>3272.0</td>\n",
              "      <td>3455.0</td>\n",
              "      <td>3261.0</td>\n",
              "      <td>0.0</td>\n",
              "      <td>1000.0</td>\n",
              "      <td>1000.0</td>\n",
              "      <td>1000.0</td>\n",
              "      <td>0.0</td>\n",
              "      <td>2000.0</td>\n",
              "      <td>1</td>\n",
              "    </tr>\n",
              "    <tr>\n",
              "      <th>2</th>\n",
              "      <td>3</td>\n",
              "      <td>90000.0</td>\n",
              "      <td>2</td>\n",
              "      <td>2</td>\n",
              "      <td>2</td>\n",
              "      <td>34</td>\n",
              "      <td>0</td>\n",
              "      <td>0</td>\n",
              "      <td>0</td>\n",
              "      <td>0</td>\n",
              "      <td>...</td>\n",
              "      <td>14331.0</td>\n",
              "      <td>14948.0</td>\n",
              "      <td>15549.0</td>\n",
              "      <td>1518.0</td>\n",
              "      <td>1500.0</td>\n",
              "      <td>1000.0</td>\n",
              "      <td>1000.0</td>\n",
              "      <td>1000.0</td>\n",
              "      <td>5000.0</td>\n",
              "      <td>0</td>\n",
              "    </tr>\n",
              "    <tr>\n",
              "      <th>3</th>\n",
              "      <td>4</td>\n",
              "      <td>50000.0</td>\n",
              "      <td>2</td>\n",
              "      <td>2</td>\n",
              "      <td>1</td>\n",
              "      <td>37</td>\n",
              "      <td>0</td>\n",
              "      <td>0</td>\n",
              "      <td>0</td>\n",
              "      <td>0</td>\n",
              "      <td>...</td>\n",
              "      <td>28314.0</td>\n",
              "      <td>28959.0</td>\n",
              "      <td>29547.0</td>\n",
              "      <td>2000.0</td>\n",
              "      <td>2019.0</td>\n",
              "      <td>1200.0</td>\n",
              "      <td>1100.0</td>\n",
              "      <td>1069.0</td>\n",
              "      <td>1000.0</td>\n",
              "      <td>0</td>\n",
              "    </tr>\n",
              "    <tr>\n",
              "      <th>4</th>\n",
              "      <td>5</td>\n",
              "      <td>50000.0</td>\n",
              "      <td>1</td>\n",
              "      <td>2</td>\n",
              "      <td>1</td>\n",
              "      <td>57</td>\n",
              "      <td>-1</td>\n",
              "      <td>0</td>\n",
              "      <td>-1</td>\n",
              "      <td>0</td>\n",
              "      <td>...</td>\n",
              "      <td>20940.0</td>\n",
              "      <td>19146.0</td>\n",
              "      <td>19131.0</td>\n",
              "      <td>2000.0</td>\n",
              "      <td>36681.0</td>\n",
              "      <td>10000.0</td>\n",
              "      <td>9000.0</td>\n",
              "      <td>689.0</td>\n",
              "      <td>679.0</td>\n",
              "      <td>0</td>\n",
              "    </tr>\n",
              "  </tbody>\n",
              "</table>\n",
              "<p>5 rows × 25 columns</p>\n",
              "</div>\n",
              "      <button class=\"colab-df-convert\" onclick=\"convertToInteractive('df-e14bc308-7b0f-41ca-aa2d-799228a201fe')\"\n",
              "              title=\"Convert this dataframe to an interactive table.\"\n",
              "              style=\"display:none;\">\n",
              "        \n",
              "  <svg xmlns=\"http://www.w3.org/2000/svg\" height=\"24px\"viewBox=\"0 0 24 24\"\n",
              "       width=\"24px\">\n",
              "    <path d=\"M0 0h24v24H0V0z\" fill=\"none\"/>\n",
              "    <path d=\"M18.56 5.44l.94 2.06.94-2.06 2.06-.94-2.06-.94-.94-2.06-.94 2.06-2.06.94zm-11 1L8.5 8.5l.94-2.06 2.06-.94-2.06-.94L8.5 2.5l-.94 2.06-2.06.94zm10 10l.94 2.06.94-2.06 2.06-.94-2.06-.94-.94-2.06-.94 2.06-2.06.94z\"/><path d=\"M17.41 7.96l-1.37-1.37c-.4-.4-.92-.59-1.43-.59-.52 0-1.04.2-1.43.59L10.3 9.45l-7.72 7.72c-.78.78-.78 2.05 0 2.83L4 21.41c.39.39.9.59 1.41.59.51 0 1.02-.2 1.41-.59l7.78-7.78 2.81-2.81c.8-.78.8-2.07 0-2.86zM5.41 20L4 18.59l7.72-7.72 1.47 1.35L5.41 20z\"/>\n",
              "  </svg>\n",
              "      </button>\n",
              "      \n",
              "  <style>\n",
              "    .colab-df-container {\n",
              "      display:flex;\n",
              "      flex-wrap:wrap;\n",
              "      gap: 12px;\n",
              "    }\n",
              "\n",
              "    .colab-df-convert {\n",
              "      background-color: #E8F0FE;\n",
              "      border: none;\n",
              "      border-radius: 50%;\n",
              "      cursor: pointer;\n",
              "      display: none;\n",
              "      fill: #1967D2;\n",
              "      height: 32px;\n",
              "      padding: 0 0 0 0;\n",
              "      width: 32px;\n",
              "    }\n",
              "\n",
              "    .colab-df-convert:hover {\n",
              "      background-color: #E2EBFA;\n",
              "      box-shadow: 0px 1px 2px rgba(60, 64, 67, 0.3), 0px 1px 3px 1px rgba(60, 64, 67, 0.15);\n",
              "      fill: #174EA6;\n",
              "    }\n",
              "\n",
              "    [theme=dark] .colab-df-convert {\n",
              "      background-color: #3B4455;\n",
              "      fill: #D2E3FC;\n",
              "    }\n",
              "\n",
              "    [theme=dark] .colab-df-convert:hover {\n",
              "      background-color: #434B5C;\n",
              "      box-shadow: 0px 1px 3px 1px rgba(0, 0, 0, 0.15);\n",
              "      filter: drop-shadow(0px 1px 2px rgba(0, 0, 0, 0.3));\n",
              "      fill: #FFFFFF;\n",
              "    }\n",
              "  </style>\n",
              "\n",
              "      <script>\n",
              "        const buttonEl =\n",
              "          document.querySelector('#df-e14bc308-7b0f-41ca-aa2d-799228a201fe button.colab-df-convert');\n",
              "        buttonEl.style.display =\n",
              "          google.colab.kernel.accessAllowed ? 'block' : 'none';\n",
              "\n",
              "        async function convertToInteractive(key) {\n",
              "          const element = document.querySelector('#df-e14bc308-7b0f-41ca-aa2d-799228a201fe');\n",
              "          const dataTable =\n",
              "            await google.colab.kernel.invokeFunction('convertToInteractive',\n",
              "                                                     [key], {});\n",
              "          if (!dataTable) return;\n",
              "\n",
              "          const docLinkHtml = 'Like what you see? Visit the ' +\n",
              "            '<a target=\"_blank\" href=https://colab.research.google.com/notebooks/data_table.ipynb>data table notebook</a>'\n",
              "            + ' to learn more about interactive tables.';\n",
              "          element.innerHTML = '';\n",
              "          dataTable['output_type'] = 'display_data';\n",
              "          await google.colab.output.renderOutput(dataTable, element);\n",
              "          const docLink = document.createElement('div');\n",
              "          docLink.innerHTML = docLinkHtml;\n",
              "          element.appendChild(docLink);\n",
              "        }\n",
              "      </script>\n",
              "    </div>\n",
              "  </div>\n",
              "  "
            ]
          },
          "metadata": {},
          "execution_count": 5
        }
      ]
    },
    {
      "cell_type": "code",
      "source": [
        "#Finding sum of null values\n",
        "df.isnull().sum()"
      ],
      "metadata": {
        "colab": {
          "base_uri": "https://localhost:8080/"
        },
        "id": "kE-kMQl8u6VC",
        "outputId": "7745afe8-95a3-4771-a246-a991c2a83317"
      },
      "execution_count": 6,
      "outputs": [
        {
          "output_type": "execute_result",
          "data": {
            "text/plain": [
              "ID                            0\n",
              "LIMIT_BAL                     0\n",
              "SEX                           0\n",
              "EDUCATION                     0\n",
              "MARRIAGE                      0\n",
              "AGE                           0\n",
              "PAY_0                         0\n",
              "PAY_2                         0\n",
              "PAY_3                         0\n",
              "PAY_4                         0\n",
              "PAY_5                         0\n",
              "PAY_6                         0\n",
              "BILL_AMT1                     0\n",
              "BILL_AMT2                     0\n",
              "BILL_AMT3                     0\n",
              "BILL_AMT4                     0\n",
              "BILL_AMT5                     0\n",
              "BILL_AMT6                     0\n",
              "PAY_AMT1                      0\n",
              "PAY_AMT2                      0\n",
              "PAY_AMT3                      0\n",
              "PAY_AMT4                      0\n",
              "PAY_AMT5                      0\n",
              "PAY_AMT6                      0\n",
              "default.payment.next.month    0\n",
              "dtype: int64"
            ]
          },
          "metadata": {},
          "execution_count": 6
        }
      ]
    },
    {
      "cell_type": "markdown",
      "source": [
        "Inference:\n",
        "   \n",
        "   There is no null values in the given data."
      ],
      "metadata": {
        "id": "R1cJTkaGvYxV"
      }
    },
    {
      "cell_type": "markdown",
      "source": [
        "# **Exploratory Data Analysis -EDA**"
      ],
      "metadata": {
        "id": "7S-ilufiv343"
      }
    },
    {
      "cell_type": "code",
      "source": [
        "data = df.copy()"
      ],
      "metadata": {
        "id": "SP9n6yjOvPh_"
      },
      "execution_count": 7,
      "outputs": []
    },
    {
      "cell_type": "code",
      "source": [
        "#change numerical to text data for Columns \n",
        "data[\"SEX\"] = data[\"SEX\"].replace({1:'Male', 2:'Female'})\n",
        "data['EDUCATION'] = data[\"EDUCATION\"].replace({1:'Graduate School', 2:'University', 3:'High School', 4:'Others',\n",
        "5:'Unknown', 6:'Unknown'})\n",
        "data[\"MARRIAGE\"] = data[\"MARRIAGE\"].replace({1:'Married', 2:'Single', 3:'Others'})\n",
        "data[\"default.payment.next.month\"] = data[\"default.payment.next.month\"].replace({1:'Yes', 0:'No'})"
      ],
      "metadata": {
        "id": "x-w2n-jG8hDt"
      },
      "execution_count": 8,
      "outputs": []
    },
    {
      "cell_type": "code",
      "source": [
        "#data after changing to categorical format\n",
        "data"
      ],
      "metadata": {
        "colab": {
          "base_uri": "https://localhost:8080/",
          "height": 540
        },
        "id": "Cay5VRSVwVC4",
        "outputId": "8b3a473f-b2aa-4ad0-bd2c-5c68ee57c19d"
      },
      "execution_count": 9,
      "outputs": [
        {
          "output_type": "execute_result",
          "data": {
            "text/plain": [
              "          ID  LIMIT_BAL     SEX    EDUCATION MARRIAGE  AGE  PAY_0  PAY_2  \\\n",
              "0          1    20000.0  Female   University  Married   24      2      2   \n",
              "1          2   120000.0  Female   University   Single   26     -1      2   \n",
              "2          3    90000.0  Female   University   Single   34      0      0   \n",
              "3          4    50000.0  Female   University  Married   37      0      0   \n",
              "4          5    50000.0    Male   University  Married   57     -1      0   \n",
              "...      ...        ...     ...          ...      ...  ...    ...    ...   \n",
              "29995  29996   220000.0    Male  High School  Married   39      0      0   \n",
              "29996  29997   150000.0    Male  High School   Single   43     -1     -1   \n",
              "29997  29998    30000.0    Male   University   Single   37      4      3   \n",
              "29998  29999    80000.0    Male  High School  Married   41      1     -1   \n",
              "29999  30000    50000.0    Male   University  Married   46      0      0   \n",
              "\n",
              "       PAY_3  PAY_4  ...  BILL_AMT4  BILL_AMT5  BILL_AMT6  PAY_AMT1  PAY_AMT2  \\\n",
              "0         -1     -1  ...        0.0        0.0        0.0       0.0     689.0   \n",
              "1          0      0  ...     3272.0     3455.0     3261.0       0.0    1000.0   \n",
              "2          0      0  ...    14331.0    14948.0    15549.0    1518.0    1500.0   \n",
              "3          0      0  ...    28314.0    28959.0    29547.0    2000.0    2019.0   \n",
              "4         -1      0  ...    20940.0    19146.0    19131.0    2000.0   36681.0   \n",
              "...      ...    ...  ...        ...        ...        ...       ...       ...   \n",
              "29995      0      0  ...    88004.0    31237.0    15980.0    8500.0   20000.0   \n",
              "29996     -1     -1  ...     8979.0     5190.0        0.0    1837.0    3526.0   \n",
              "29997      2     -1  ...    20878.0    20582.0    19357.0       0.0       0.0   \n",
              "29998      0      0  ...    52774.0    11855.0    48944.0   85900.0    3409.0   \n",
              "29999      0      0  ...    36535.0    32428.0    15313.0    2078.0    1800.0   \n",
              "\n",
              "       PAY_AMT3  PAY_AMT4  PAY_AMT5  PAY_AMT6  default.payment.next.month  \n",
              "0           0.0       0.0       0.0       0.0                         Yes  \n",
              "1        1000.0    1000.0       0.0    2000.0                         Yes  \n",
              "2        1000.0    1000.0    1000.0    5000.0                          No  \n",
              "3        1200.0    1100.0    1069.0    1000.0                          No  \n",
              "4       10000.0    9000.0     689.0     679.0                          No  \n",
              "...         ...       ...       ...       ...                         ...  \n",
              "29995    5003.0    3047.0    5000.0    1000.0                          No  \n",
              "29996    8998.0     129.0       0.0       0.0                          No  \n",
              "29997   22000.0    4200.0    2000.0    3100.0                         Yes  \n",
              "29998    1178.0    1926.0   52964.0    1804.0                         Yes  \n",
              "29999    1430.0    1000.0    1000.0    1000.0                         Yes  \n",
              "\n",
              "[30000 rows x 25 columns]"
            ],
            "text/html": [
              "\n",
              "  <div id=\"df-9a21cfa3-4df0-491b-b107-2615c8fd9caf\">\n",
              "    <div class=\"colab-df-container\">\n",
              "      <div>\n",
              "<style scoped>\n",
              "    .dataframe tbody tr th:only-of-type {\n",
              "        vertical-align: middle;\n",
              "    }\n",
              "\n",
              "    .dataframe tbody tr th {\n",
              "        vertical-align: top;\n",
              "    }\n",
              "\n",
              "    .dataframe thead th {\n",
              "        text-align: right;\n",
              "    }\n",
              "</style>\n",
              "<table border=\"1\" class=\"dataframe\">\n",
              "  <thead>\n",
              "    <tr style=\"text-align: right;\">\n",
              "      <th></th>\n",
              "      <th>ID</th>\n",
              "      <th>LIMIT_BAL</th>\n",
              "      <th>SEX</th>\n",
              "      <th>EDUCATION</th>\n",
              "      <th>MARRIAGE</th>\n",
              "      <th>AGE</th>\n",
              "      <th>PAY_0</th>\n",
              "      <th>PAY_2</th>\n",
              "      <th>PAY_3</th>\n",
              "      <th>PAY_4</th>\n",
              "      <th>...</th>\n",
              "      <th>BILL_AMT4</th>\n",
              "      <th>BILL_AMT5</th>\n",
              "      <th>BILL_AMT6</th>\n",
              "      <th>PAY_AMT1</th>\n",
              "      <th>PAY_AMT2</th>\n",
              "      <th>PAY_AMT3</th>\n",
              "      <th>PAY_AMT4</th>\n",
              "      <th>PAY_AMT5</th>\n",
              "      <th>PAY_AMT6</th>\n",
              "      <th>default.payment.next.month</th>\n",
              "    </tr>\n",
              "  </thead>\n",
              "  <tbody>\n",
              "    <tr>\n",
              "      <th>0</th>\n",
              "      <td>1</td>\n",
              "      <td>20000.0</td>\n",
              "      <td>Female</td>\n",
              "      <td>University</td>\n",
              "      <td>Married</td>\n",
              "      <td>24</td>\n",
              "      <td>2</td>\n",
              "      <td>2</td>\n",
              "      <td>-1</td>\n",
              "      <td>-1</td>\n",
              "      <td>...</td>\n",
              "      <td>0.0</td>\n",
              "      <td>0.0</td>\n",
              "      <td>0.0</td>\n",
              "      <td>0.0</td>\n",
              "      <td>689.0</td>\n",
              "      <td>0.0</td>\n",
              "      <td>0.0</td>\n",
              "      <td>0.0</td>\n",
              "      <td>0.0</td>\n",
              "      <td>Yes</td>\n",
              "    </tr>\n",
              "    <tr>\n",
              "      <th>1</th>\n",
              "      <td>2</td>\n",
              "      <td>120000.0</td>\n",
              "      <td>Female</td>\n",
              "      <td>University</td>\n",
              "      <td>Single</td>\n",
              "      <td>26</td>\n",
              "      <td>-1</td>\n",
              "      <td>2</td>\n",
              "      <td>0</td>\n",
              "      <td>0</td>\n",
              "      <td>...</td>\n",
              "      <td>3272.0</td>\n",
              "      <td>3455.0</td>\n",
              "      <td>3261.0</td>\n",
              "      <td>0.0</td>\n",
              "      <td>1000.0</td>\n",
              "      <td>1000.0</td>\n",
              "      <td>1000.0</td>\n",
              "      <td>0.0</td>\n",
              "      <td>2000.0</td>\n",
              "      <td>Yes</td>\n",
              "    </tr>\n",
              "    <tr>\n",
              "      <th>2</th>\n",
              "      <td>3</td>\n",
              "      <td>90000.0</td>\n",
              "      <td>Female</td>\n",
              "      <td>University</td>\n",
              "      <td>Single</td>\n",
              "      <td>34</td>\n",
              "      <td>0</td>\n",
              "      <td>0</td>\n",
              "      <td>0</td>\n",
              "      <td>0</td>\n",
              "      <td>...</td>\n",
              "      <td>14331.0</td>\n",
              "      <td>14948.0</td>\n",
              "      <td>15549.0</td>\n",
              "      <td>1518.0</td>\n",
              "      <td>1500.0</td>\n",
              "      <td>1000.0</td>\n",
              "      <td>1000.0</td>\n",
              "      <td>1000.0</td>\n",
              "      <td>5000.0</td>\n",
              "      <td>No</td>\n",
              "    </tr>\n",
              "    <tr>\n",
              "      <th>3</th>\n",
              "      <td>4</td>\n",
              "      <td>50000.0</td>\n",
              "      <td>Female</td>\n",
              "      <td>University</td>\n",
              "      <td>Married</td>\n",
              "      <td>37</td>\n",
              "      <td>0</td>\n",
              "      <td>0</td>\n",
              "      <td>0</td>\n",
              "      <td>0</td>\n",
              "      <td>...</td>\n",
              "      <td>28314.0</td>\n",
              "      <td>28959.0</td>\n",
              "      <td>29547.0</td>\n",
              "      <td>2000.0</td>\n",
              "      <td>2019.0</td>\n",
              "      <td>1200.0</td>\n",
              "      <td>1100.0</td>\n",
              "      <td>1069.0</td>\n",
              "      <td>1000.0</td>\n",
              "      <td>No</td>\n",
              "    </tr>\n",
              "    <tr>\n",
              "      <th>4</th>\n",
              "      <td>5</td>\n",
              "      <td>50000.0</td>\n",
              "      <td>Male</td>\n",
              "      <td>University</td>\n",
              "      <td>Married</td>\n",
              "      <td>57</td>\n",
              "      <td>-1</td>\n",
              "      <td>0</td>\n",
              "      <td>-1</td>\n",
              "      <td>0</td>\n",
              "      <td>...</td>\n",
              "      <td>20940.0</td>\n",
              "      <td>19146.0</td>\n",
              "      <td>19131.0</td>\n",
              "      <td>2000.0</td>\n",
              "      <td>36681.0</td>\n",
              "      <td>10000.0</td>\n",
              "      <td>9000.0</td>\n",
              "      <td>689.0</td>\n",
              "      <td>679.0</td>\n",
              "      <td>No</td>\n",
              "    </tr>\n",
              "    <tr>\n",
              "      <th>...</th>\n",
              "      <td>...</td>\n",
              "      <td>...</td>\n",
              "      <td>...</td>\n",
              "      <td>...</td>\n",
              "      <td>...</td>\n",
              "      <td>...</td>\n",
              "      <td>...</td>\n",
              "      <td>...</td>\n",
              "      <td>...</td>\n",
              "      <td>...</td>\n",
              "      <td>...</td>\n",
              "      <td>...</td>\n",
              "      <td>...</td>\n",
              "      <td>...</td>\n",
              "      <td>...</td>\n",
              "      <td>...</td>\n",
              "      <td>...</td>\n",
              "      <td>...</td>\n",
              "      <td>...</td>\n",
              "      <td>...</td>\n",
              "      <td>...</td>\n",
              "    </tr>\n",
              "    <tr>\n",
              "      <th>29995</th>\n",
              "      <td>29996</td>\n",
              "      <td>220000.0</td>\n",
              "      <td>Male</td>\n",
              "      <td>High School</td>\n",
              "      <td>Married</td>\n",
              "      <td>39</td>\n",
              "      <td>0</td>\n",
              "      <td>0</td>\n",
              "      <td>0</td>\n",
              "      <td>0</td>\n",
              "      <td>...</td>\n",
              "      <td>88004.0</td>\n",
              "      <td>31237.0</td>\n",
              "      <td>15980.0</td>\n",
              "      <td>8500.0</td>\n",
              "      <td>20000.0</td>\n",
              "      <td>5003.0</td>\n",
              "      <td>3047.0</td>\n",
              "      <td>5000.0</td>\n",
              "      <td>1000.0</td>\n",
              "      <td>No</td>\n",
              "    </tr>\n",
              "    <tr>\n",
              "      <th>29996</th>\n",
              "      <td>29997</td>\n",
              "      <td>150000.0</td>\n",
              "      <td>Male</td>\n",
              "      <td>High School</td>\n",
              "      <td>Single</td>\n",
              "      <td>43</td>\n",
              "      <td>-1</td>\n",
              "      <td>-1</td>\n",
              "      <td>-1</td>\n",
              "      <td>-1</td>\n",
              "      <td>...</td>\n",
              "      <td>8979.0</td>\n",
              "      <td>5190.0</td>\n",
              "      <td>0.0</td>\n",
              "      <td>1837.0</td>\n",
              "      <td>3526.0</td>\n",
              "      <td>8998.0</td>\n",
              "      <td>129.0</td>\n",
              "      <td>0.0</td>\n",
              "      <td>0.0</td>\n",
              "      <td>No</td>\n",
              "    </tr>\n",
              "    <tr>\n",
              "      <th>29997</th>\n",
              "      <td>29998</td>\n",
              "      <td>30000.0</td>\n",
              "      <td>Male</td>\n",
              "      <td>University</td>\n",
              "      <td>Single</td>\n",
              "      <td>37</td>\n",
              "      <td>4</td>\n",
              "      <td>3</td>\n",
              "      <td>2</td>\n",
              "      <td>-1</td>\n",
              "      <td>...</td>\n",
              "      <td>20878.0</td>\n",
              "      <td>20582.0</td>\n",
              "      <td>19357.0</td>\n",
              "      <td>0.0</td>\n",
              "      <td>0.0</td>\n",
              "      <td>22000.0</td>\n",
              "      <td>4200.0</td>\n",
              "      <td>2000.0</td>\n",
              "      <td>3100.0</td>\n",
              "      <td>Yes</td>\n",
              "    </tr>\n",
              "    <tr>\n",
              "      <th>29998</th>\n",
              "      <td>29999</td>\n",
              "      <td>80000.0</td>\n",
              "      <td>Male</td>\n",
              "      <td>High School</td>\n",
              "      <td>Married</td>\n",
              "      <td>41</td>\n",
              "      <td>1</td>\n",
              "      <td>-1</td>\n",
              "      <td>0</td>\n",
              "      <td>0</td>\n",
              "      <td>...</td>\n",
              "      <td>52774.0</td>\n",
              "      <td>11855.0</td>\n",
              "      <td>48944.0</td>\n",
              "      <td>85900.0</td>\n",
              "      <td>3409.0</td>\n",
              "      <td>1178.0</td>\n",
              "      <td>1926.0</td>\n",
              "      <td>52964.0</td>\n",
              "      <td>1804.0</td>\n",
              "      <td>Yes</td>\n",
              "    </tr>\n",
              "    <tr>\n",
              "      <th>29999</th>\n",
              "      <td>30000</td>\n",
              "      <td>50000.0</td>\n",
              "      <td>Male</td>\n",
              "      <td>University</td>\n",
              "      <td>Married</td>\n",
              "      <td>46</td>\n",
              "      <td>0</td>\n",
              "      <td>0</td>\n",
              "      <td>0</td>\n",
              "      <td>0</td>\n",
              "      <td>...</td>\n",
              "      <td>36535.0</td>\n",
              "      <td>32428.0</td>\n",
              "      <td>15313.0</td>\n",
              "      <td>2078.0</td>\n",
              "      <td>1800.0</td>\n",
              "      <td>1430.0</td>\n",
              "      <td>1000.0</td>\n",
              "      <td>1000.0</td>\n",
              "      <td>1000.0</td>\n",
              "      <td>Yes</td>\n",
              "    </tr>\n",
              "  </tbody>\n",
              "</table>\n",
              "<p>30000 rows × 25 columns</p>\n",
              "</div>\n",
              "      <button class=\"colab-df-convert\" onclick=\"convertToInteractive('df-9a21cfa3-4df0-491b-b107-2615c8fd9caf')\"\n",
              "              title=\"Convert this dataframe to an interactive table.\"\n",
              "              style=\"display:none;\">\n",
              "        \n",
              "  <svg xmlns=\"http://www.w3.org/2000/svg\" height=\"24px\"viewBox=\"0 0 24 24\"\n",
              "       width=\"24px\">\n",
              "    <path d=\"M0 0h24v24H0V0z\" fill=\"none\"/>\n",
              "    <path d=\"M18.56 5.44l.94 2.06.94-2.06 2.06-.94-2.06-.94-.94-2.06-.94 2.06-2.06.94zm-11 1L8.5 8.5l.94-2.06 2.06-.94-2.06-.94L8.5 2.5l-.94 2.06-2.06.94zm10 10l.94 2.06.94-2.06 2.06-.94-2.06-.94-.94-2.06-.94 2.06-2.06.94z\"/><path d=\"M17.41 7.96l-1.37-1.37c-.4-.4-.92-.59-1.43-.59-.52 0-1.04.2-1.43.59L10.3 9.45l-7.72 7.72c-.78.78-.78 2.05 0 2.83L4 21.41c.39.39.9.59 1.41.59.51 0 1.02-.2 1.41-.59l7.78-7.78 2.81-2.81c.8-.78.8-2.07 0-2.86zM5.41 20L4 18.59l7.72-7.72 1.47 1.35L5.41 20z\"/>\n",
              "  </svg>\n",
              "      </button>\n",
              "      \n",
              "  <style>\n",
              "    .colab-df-container {\n",
              "      display:flex;\n",
              "      flex-wrap:wrap;\n",
              "      gap: 12px;\n",
              "    }\n",
              "\n",
              "    .colab-df-convert {\n",
              "      background-color: #E8F0FE;\n",
              "      border: none;\n",
              "      border-radius: 50%;\n",
              "      cursor: pointer;\n",
              "      display: none;\n",
              "      fill: #1967D2;\n",
              "      height: 32px;\n",
              "      padding: 0 0 0 0;\n",
              "      width: 32px;\n",
              "    }\n",
              "\n",
              "    .colab-df-convert:hover {\n",
              "      background-color: #E2EBFA;\n",
              "      box-shadow: 0px 1px 2px rgba(60, 64, 67, 0.3), 0px 1px 3px 1px rgba(60, 64, 67, 0.15);\n",
              "      fill: #174EA6;\n",
              "    }\n",
              "\n",
              "    [theme=dark] .colab-df-convert {\n",
              "      background-color: #3B4455;\n",
              "      fill: #D2E3FC;\n",
              "    }\n",
              "\n",
              "    [theme=dark] .colab-df-convert:hover {\n",
              "      background-color: #434B5C;\n",
              "      box-shadow: 0px 1px 3px 1px rgba(0, 0, 0, 0.15);\n",
              "      filter: drop-shadow(0px 1px 2px rgba(0, 0, 0, 0.3));\n",
              "      fill: #FFFFFF;\n",
              "    }\n",
              "  </style>\n",
              "\n",
              "      <script>\n",
              "        const buttonEl =\n",
              "          document.querySelector('#df-9a21cfa3-4df0-491b-b107-2615c8fd9caf button.colab-df-convert');\n",
              "        buttonEl.style.display =\n",
              "          google.colab.kernel.accessAllowed ? 'block' : 'none';\n",
              "\n",
              "        async function convertToInteractive(key) {\n",
              "          const element = document.querySelector('#df-9a21cfa3-4df0-491b-b107-2615c8fd9caf');\n",
              "          const dataTable =\n",
              "            await google.colab.kernel.invokeFunction('convertToInteractive',\n",
              "                                                     [key], {});\n",
              "          if (!dataTable) return;\n",
              "\n",
              "          const docLinkHtml = 'Like what you see? Visit the ' +\n",
              "            '<a target=\"_blank\" href=https://colab.research.google.com/notebooks/data_table.ipynb>data table notebook</a>'\n",
              "            + ' to learn more about interactive tables.';\n",
              "          element.innerHTML = '';\n",
              "          dataTable['output_type'] = 'display_data';\n",
              "          await google.colab.output.renderOutput(dataTable, element);\n",
              "          const docLink = document.createElement('div');\n",
              "          docLink.innerHTML = docLinkHtml;\n",
              "          element.appendChild(docLink);\n",
              "        }\n",
              "      </script>\n",
              "    </div>\n",
              "  </div>\n",
              "  "
            ]
          },
          "metadata": {},
          "execution_count": 9
        }
      ]
    },
    {
      "cell_type": "code",
      "source": [
        "#Calculating total number of credit card user in accordance with the gender\n",
        "ax =sns.countplot(data.SEX,palette=\"Greens\")\n",
        "\n",
        "total = len(data. SEX)\n",
        "for p in ax.patches:\n",
        "    percentage = f'{100 * p.get_height() / total:.1f}%\\n'\n",
        "    x = p.get_x() + p.get_width() / 2\n",
        "    y = p.get_height()\n",
        "    ax.annotate(percentage, (x, y), ha='center', va='center')\n",
        "plt.tight_layout()\n",
        "plt.figure(figsize=(14,14))\n",
        "plt.show()"
      ],
      "metadata": {
        "colab": {
          "base_uri": "https://localhost:8080/",
          "height": 369
        },
        "id": "6JXH6gjkBglS",
        "outputId": "90195134-5d9b-44a4-e6ed-8c34e686cbb3"
      },
      "execution_count": 124,
      "outputs": [
        {
          "output_type": "stream",
          "name": "stderr",
          "text": [
            "/usr/local/lib/python3.7/dist-packages/seaborn/_decorators.py:43: FutureWarning: Pass the following variable as a keyword arg: x. From version 0.12, the only valid positional argument will be `data`, and passing other arguments without an explicit keyword will result in an error or misinterpretation.\n",
            "  FutureWarning\n"
          ]
        },
        {
          "output_type": "display_data",
          "data": {
            "text/plain": [
              "<Figure size 432x288 with 1 Axes>"
            ],
            "image/png": "[encoded data removed]"
          },
          "metadata": {
            "needs_background": "light"
          }
        },
        {
          "output_type": "display_data",
          "data": {
            "text/plain": [
              "<Figure size 1008x1008 with 0 Axes>"
            ]
          },
          "metadata": {}
        }
      ]
    },
    {
      "cell_type": "markdown",
      "source": [
        "Inference:\n",
        "\n",
        "         More than 60% of credit card holder comes under Female Category whereas 39.6%  are comes under Male category."
      ],
      "metadata": {
        "id": "lBcjIc-8JKHw"
      }
    },
    {
      "cell_type": "code",
      "source": [
        "#Credit card user in respect with their education\n",
        "plt.figure(figsize=(7,7))\n",
        "ax =sns.countplot(data.EDUCATION, hue=data.SEX, palette=['black', 'grey'])\n",
        "ax.set_xticklabels(ax.get_xticklabels(), rotation=90, ha=\"right\")\n",
        "\n",
        "total = len(data.EDUCATION)\n",
        "for p in ax.patches:\n",
        "    percentage = f'{100 * p.get_height() / total:.1f}%\\n'\n",
        "    x = p.get_x() + p.get_width() / 2\n",
        "    y = p.get_height()\n",
        "    ax.annotate(percentage, (x, y), ha='center', va='center')\n",
        "plt.tight_layout()\n",
        "plt.show()"
      ],
      "metadata": {
        "id": "S2fNkZVsC_bE",
        "colab": {
          "base_uri": "https://localhost:8080/",
          "height": 568
        },
        "outputId": "e512ee86-243d-4322-f199-12f09cc4648b"
      },
      "execution_count": 113,
      "outputs": [
        {
          "output_type": "stream",
          "name": "stderr",
          "text": [
            "/usr/local/lib/python3.7/dist-packages/seaborn/_decorators.py:43: FutureWarning: Pass the following variable as a keyword arg: x. From version 0.12, the only valid positional argument will be `data`, and passing other arguments without an explicit keyword will result in an error or misinterpretation.\n",
            "  FutureWarning\n"
          ]
        },
        {
          "output_type": "display_data",
          "data": {
            "text/plain": [
              "<Figure size 504x504 with 1 Axes>"
            ],
            "image/png": "[encoded data removed]"
          },
          "metadata": {
            "needs_background": "light"
          }
        }
      ]
    },
    {
      "cell_type": "markdown",
      "source": [
        "### **Inference:**\n",
        "\n",
        "    1. Most of the credit card holders are those who attend University or University Graduated.\n",
        "    2. 35.3% are credit card holder are School Graduated and there is less difference in percentage with the University.\n",
        "    3. In every aspects of education Females holds the higher percentage compared to Male."
      ],
      "metadata": {
        "id": "Um1AbAw-LYGY"
      }
    },
    {
      "cell_type": "code",
      "source": [
        "#credit card user irrespective of marital status\n",
        "ax =sns.countplot(data.MARRIAGE, hue=data.SEX,palette='Oranges')\n",
        "ax.set_xticklabels(ax.get_xticklabels(), rotation=0, ha=\"right\")\n",
        "\n",
        "total = len(data.MARRIAGE)\n",
        "for p in ax.patches:\n",
        "    percentage = f'{100 * p.get_height() / total:.1f}%\\n'\n",
        "    x = p.get_x() + p.get_width() / 2\n",
        "    y = p.get_height()\n",
        "    ax.annotate(percentage, (x, y), ha='center', va='center')\n",
        "plt.tight_layout()\n",
        "plt.figure(figsize=(14,14))\n",
        "plt.show()"
      ],
      "metadata": {
        "id": "YvbvW1NmIdXH",
        "colab": {
          "base_uri": "https://localhost:8080/",
          "height": 369
        },
        "outputId": "ac3990e3-ff3d-4997-d7fa-f89a73289f5a"
      },
      "execution_count": 125,
      "outputs": [
        {
          "output_type": "stream",
          "name": "stderr",
          "text": [
            "/usr/local/lib/python3.7/dist-packages/seaborn/_decorators.py:43: FutureWarning: Pass the following variable as a keyword arg: x. From version 0.12, the only valid positional argument will be `data`, and passing other arguments without an explicit keyword will result in an error or misinterpretation.\n",
            "  FutureWarning\n"
          ]
        },
        {
          "output_type": "display_data",
          "data": {
            "text/plain": [
              "<Figure size 432x288 with 1 Axes>"
            ],
            "image/png": "[encoded data removed]"
          },
          "metadata": {
            "needs_background": "light"
          }
        },
        {
          "output_type": "display_data",
          "data": {
            "text/plain": [
              "<Figure size 1008x1008 with 0 Axes>"
            ]
          },
          "metadata": {}
        }
      ]
    },
    {
      "cell_type": "markdown",
      "source": [
        "### **Inference:**\n",
        "     \n",
        "      1. Unmarried seems to be the high count of holding the credit card wheresas married is of 45.5% of having credit card.\n",
        "      2. On the whole Females holds higher percentage in all aspects of having Credit Card."
      ],
      "metadata": {
        "id": "kNs2meESM5-z"
      }
    },
    {
      "cell_type": "code",
      "source": [
        "#Default payment vs sex\n",
        "ax =sns.countplot(data['default.payment.next.month'], hue=data.SEX, palette='Purples')\n",
        "ax.set_xticklabels(ax.get_xticklabels(), rotation=40, ha=\"right\")\n",
        "\n",
        "total = len(data['default.payment.next.month'])\n",
        "for p in ax.patches:\n",
        "    percentage = f'{100 * p.get_height() / total:.1f}%\\n'\n",
        "    x = p.get_x() + p.get_width() / 2\n",
        "    y = p.get_height()\n",
        "    ax.annotate(percentage, (x, y), ha='center', va='center')\n",
        "plt.tight_layout()\n",
        "plt.title(\"Default payment\")\n",
        "plt.figure(figsize=(14,14))\n",
        "plt.show()"
      ],
      "metadata": {
        "colab": {
          "base_uri": "https://localhost:8080/",
          "height": 385
        },
        "id": "qDnlVHwdhbyH",
        "outputId": "1475859c-a755-4edf-f809-53d2d736a6b5"
      },
      "execution_count": 126,
      "outputs": [
        {
          "output_type": "stream",
          "name": "stderr",
          "text": [
            "/usr/local/lib/python3.7/dist-packages/seaborn/_decorators.py:43: FutureWarning: Pass the following variable as a keyword arg: x. From version 0.12, the only valid positional argument will be `data`, and passing other arguments without an explicit keyword will result in an error or misinterpretation.\n",
            "  FutureWarning\n"
          ]
        },
        {
          "output_type": "display_data",
          "data": {
            "text/plain": [
              "<Figure size 432x288 with 1 Axes>"
            ],
            "image/png": "[encoded data removed]"
          },
          "metadata": {
            "needs_background": "light"
          }
        },
        {
          "output_type": "display_data",
          "data": {
            "text/plain": [
              "<Figure size 1008x1008 with 0 Axes>"
            ]
          },
          "metadata": {}
        }
      ]
    },
    {
      "cell_type": "markdown",
      "source": [
        "### **Inference:**\n",
        "\n",
        "   1. Non Default payment next month has higher percentage since most people pay credit cards on time.\n",
        "   2. Non Default payment have a higher proportion of Females. \n",
        "   3. only 22% of people have co,e under default payment next month, or paying their credit beyond the deadline."
      ],
      "metadata": {
        "id": "Tw9qN5PWh5XI"
      }
    },
    {
      "cell_type": "code",
      "source": [
        "#Credit card limit\n",
        "plt.figure(figsize = (14,6))\n",
        "plt.title('Amount of credit limit ')\n",
        "sns.set_color_codes(\"pastel\")\n",
        "sns.distplot(data['LIMIT_BAL'],kde=True, color=\"RED\")\n",
        "plt.show()"
      ],
      "metadata": {
        "colab": {
          "base_uri": "https://localhost:8080/",
          "height": 460
        },
        "id": "KQiPNCBMh09V",
        "outputId": "65cfb498-7e21-4d7b-8aeb-f613a7a7861d"
      },
      "execution_count": 127,
      "outputs": [
        {
          "output_type": "stream",
          "name": "stderr",
          "text": [
            "/usr/local/lib/python3.7/dist-packages/seaborn/distributions.py:2619: FutureWarning: `distplot` is a deprecated function and will be removed in a future version. Please adapt your code to use either `displot` (a figure-level function with similar flexibility) or `histplot` (an axes-level function for histograms).\n",
            "  warnings.warn(msg, FutureWarning)\n"
          ]
        },
        {
          "output_type": "display_data",
          "data": {
            "text/plain": [
              "<Figure size 1008x432 with 1 Axes>"
            ],
            "image/png": "[encoded data removed]"
          },
          "metadata": {
            "needs_background": "light"
          }
        }
      ]
    },
    {
      "cell_type": "code",
      "source": [
        "data['LIMIT_BAL'].value_counts().head()"
      ],
      "metadata": {
        "colab": {
          "base_uri": "https://localhost:8080/"
        },
        "id": "fDs3b_RzpXxR",
        "outputId": "bc73068e-8488-4f55-eb61-5d139f2537d1"
      },
      "execution_count": 68,
      "outputs": [
        {
          "output_type": "execute_result",
          "data": {
            "text/plain": [
              "50000.0     3365\n",
              "20000.0     1976\n",
              "30000.0     1610\n",
              "80000.0     1567\n",
              "200000.0    1528\n",
              "Name: LIMIT_BAL, dtype: int64"
            ]
          },
          "metadata": {},
          "execution_count": 68
        }
      ]
    },
    {
      "cell_type": "markdown",
      "source": [
        "### **Inference:**\n",
        "   1. Large number of credit card limit will be apparently  amount of 50k about 3365 credit card limit falls under 50k.\n",
        "   2. In which 1976 numbers of credit card comes under limit of 20k.\n",
        "   3. Least Number of credit card limit is about 2Lakhs.\n"
      ],
      "metadata": {
        "id": "5EsMsA22nC7a"
      }
    },
    {
      "cell_type": "code",
      "source": [
        "#Credit card user with age \n",
        "plt.figure(figsize=(7,7))\n",
        "plt.hist(data['AGE'],color='limegreen',edgecolor = 'yellow')\n",
        "plt.title('Histogram of Age holding Credit card')\n",
        "\n",
        "plt.xlabel('AGE')\n",
        "plt.ylabel('Frequency')"
      ],
      "metadata": {
        "colab": {
          "base_uri": "https://localhost:8080/",
          "height": 475
        },
        "id": "SksD4YBvY_yP",
        "outputId": "4a654d29-2411-45da-c2a0-f9ba69d9085a"
      },
      "execution_count": 132,
      "outputs": [
        {
          "output_type": "execute_result",
          "data": {
            "text/plain": [
              "Text(0, 0.5, 'Frequency')"
            ]
          },
          "metadata": {},
          "execution_count": 132
        },
        {
          "output_type": "display_data",
          "data": {
            "text/plain": [
              "<Figure size 504x504 with 1 Axes>"
            ],
            "image/png": "[encoded data removed]"
          },
          "metadata": {
            "needs_background": "light"
          }
        }
      ]
    },
    {
      "cell_type": "markdown",
      "source": [
        "### **Inference:**\n",
        "\n",
        "     1. High amount of Credit Card users are the mid aged people ranges from 27 to 40.\n",
        "    2. Least Credit card users are of aged people ranges from 60 to 70. "
      ],
      "metadata": {
        "id": "zLh1BLdpakmM"
      }
    },
    {
      "cell_type": "markdown",
      "source": [
        "### **Correlation**"
      ],
      "metadata": {
        "id": "Xo7FQRrqw7Fj"
      }
    },
    {
      "cell_type": "code",
      "source": [
        "corr = df.corr() # .corr is used to find corelation\n",
        "f,ax = plt.subplots(figsize=(10, 10))\n",
        "sns.heatmap(corr, cbar = True,  square = True, annot = False, fmt= '.1f', \n",
        "            xticklabels= True, yticklabels= True\n",
        "            ,cmap=\"cool\", linewidths=.5, ax=ax)\n",
        "plt.title('CORRELATION MATRIX - HEATMAP', size=18);"
      ],
      "metadata": {
        "colab": {
          "base_uri": "https://localhost:8080/",
          "height": 681
        },
        "id": "J2Fl4m8Fh1A4",
        "outputId": "a24582d6-f3ba-4027-baa2-606c9c2c5712"
      },
      "execution_count": 109,
      "outputs": [
        {
          "output_type": "display_data",
          "data": {
            "text/plain": [
              "<Figure size 720x720 with 2 Axes>"
            ],
            "image/png": "[encoded data removed]"
          },
          "metadata": {
            "needs_background": "light"
          }
        }
      ]
    },
    {
      "cell_type": "markdown",
      "source": [
        "### **Inference:**\n",
        "    \n",
        "    1. Features are mostly correlated with each other.\n",
        "    2. Variables such as PAY_0,2,3,4,5,6 and BILL_AMT1,2,3,4,5,6 are the strongest predictors of default.\n",
        "    3. Correlation is in positive."
      ],
      "metadata": {
        "id": "IZ6sU2Tuxp-K"
      }
    },
    {
      "cell_type": "markdown",
      "source": [
        "# **MACHINE LEARNING**"
      ],
      "metadata": {
        "id": "wUlzJEwZzASm"
      }
    },
    {
      "cell_type": "markdown",
      "source": [
        "##Spliting the data into train and test sets"
      ],
      "metadata": {
        "id": "h8j7O-sH1wUP"
      }
    },
    {
      "cell_type": "code",
      "source": [
        "X = df.drop(columns=['default.payment.next.month'])\n",
        "Y = df[\"default.payment.next.month\"]"
      ],
      "metadata": {
        "id": "CsN53nz9w10-"
      },
      "execution_count": 133,
      "outputs": []
    },
    {
      "cell_type": "code",
      "source": [
        "x_train, x_test, y_train, y_test = train_test_split(X,Y, test_size=0.2, random_state=12)"
      ],
      "metadata": {
        "id": "DUsn66Uv3VrL"
      },
      "execution_count": 226,
      "outputs": []
    },
    {
      "cell_type": "markdown",
      "source": [
        "## **Logistic Regression**"
      ],
      "metadata": {
        "id": "MiJ_RcsZ4EOs"
      }
    },
    {
      "cell_type": "code",
      "source": [
        "regressor = LogisticRegression()"
      ],
      "metadata": {
        "id": "VVc0Rs5d3osq"
      },
      "execution_count": 247,
      "outputs": []
    },
    {
      "cell_type": "code",
      "source": [
        "regressor.fit(x_train,y_train)\n",
        "y_pred = regressor.predict( x_test )\n",
        "LRScore = accuracy_score(y_pred,y_test)*100\n",
        "print(\"Accuracy Score for Logistic Regression is :\", LRScore)"
      ],
      "metadata": {
        "colab": {
          "base_uri": "https://localhost:8080/"
        },
        "id": "zzv0ZXEQ4sQa",
        "outputId": "7b9b2b2f-640b-40ef-96f6-f4136c2621c9"
      },
      "execution_count": 248,
      "outputs": [
        {
          "output_type": "stream",
          "name": "stdout",
          "text": [
            "Accuracy Score for Logistic Regression is : 81.08333333333333\n"
          ]
        }
      ]
    },
    {
      "cell_type": "code",
      "source": [
        "plt.figure(figsize=(5,5))\n",
        "ConfMatrix = confusion_matrix(y_test,y_pred)\n",
        "sns.heatmap(ConfMatrix,annot=True, cmap=\"OrRd\", fmt=\"d\", \n",
        "            xticklabels = ['Non-default', 'Default'], \n",
        "            yticklabels = ['Non-default', 'Default'])\n",
        "plt.ylabel('True label')\n",
        "plt.xlabel('Predicted label')\n",
        "plt.title(\"Confusion Matrix - Logistic Regression\")"
      ],
      "metadata": {
        "colab": {
          "base_uri": "https://localhost:8080/",
          "height": 367
        },
        "id": "MqvAvgoE6Hdv",
        "outputId": "89b7850c-c345-4390-f19a-ccfcb0b2b4da"
      },
      "execution_count": 249,
      "outputs": [
        {
          "output_type": "execute_result",
          "data": {
            "text/plain": [
              "Text(0.5, 1.0, 'Confusion Matrix - Logistic Regression')"
            ]
          },
          "metadata": {},
          "execution_count": 249
        },
        {
          "output_type": "display_data",
          "data": {
            "text/plain": [
              "<Figure size 360x360 with 2 Axes>"
            ],
            "image/png": "[encoded data removed]"
          },
          "metadata": {
            "needs_background": "light"
          }
        }
      ]
    },
    {
      "cell_type": "code",
      "source": [
        "print(\"LOGISTIC REGRESSION\")\n",
        "print(classification_report(y_test, y_pred))\n"
      ],
      "metadata": {
        "colab": {
          "base_uri": "https://localhost:8080/"
        },
        "id": "Ukb6kRK_8GXi",
        "outputId": "f55a0a34-609e-455c-deb2-219a5f298a64"
      },
      "execution_count": 250,
      "outputs": [
        {
          "output_type": "stream",
          "name": "stdout",
          "text": [
            "LOGISTIC REGRESSION\n",
            "              precision    recall  f1-score   support\n",
            "\n",
            "           0       0.82      0.97      0.89      4648\n",
            "           1       0.74      0.25      0.37      1352\n",
            "\n",
            "    accuracy                           0.81      6000\n",
            "   macro avg       0.78      0.61      0.63      6000\n",
            "weighted avg       0.80      0.81      0.77      6000\n",
            "\n"
          ]
        }
      ]
    },
    {
      "cell_type": "markdown",
      "source": [
        "## **INFERENCE:**\n",
        "\n",
        "    Performance of Logistic Regression is good with Accuracy Score of 81%.\n",
        "    Model is able to predict default with recall of 0.25."
      ],
      "metadata": {
        "id": "3gsTGgp89lO8"
      }
    },
    {
      "cell_type": "markdown",
      "source": [
        "## **K Nearest Neighbors**"
      ],
      "metadata": {
        "id": "oGRLlyRiJguW"
      }
    },
    {
      "cell_type": "code",
      "source": [
        "model = KNeighborsClassifier()\n",
        "model.fit(x_train,y_train)"
      ],
      "metadata": {
        "colab": {
          "base_uri": "https://localhost:8080/"
        },
        "id": "xLqdPemcJpUY",
        "outputId": "b83b4c44-d5b5-4194-d43b-3d930ecf459a"
      },
      "execution_count": 251,
      "outputs": [
        {
          "output_type": "execute_result",
          "data": {
            "text/plain": [
              "KNeighborsClassifier()"
            ]
          },
          "metadata": {},
          "execution_count": 251
        }
      ]
    },
    {
      "cell_type": "code",
      "source": [
        "y_predict = model.predict(x_test)\n",
        "KNNScore = accuracy_score(y_predict,y_test)*100\n",
        "print(\"Accuracy Score for K Nearest Neighbors is:\", KNNScore)"
      ],
      "metadata": {
        "colab": {
          "base_uri": "https://localhost:8080/"
        },
        "id": "VJKY40_dJpYQ",
        "outputId": "ab103f1f-9a3a-4cec-eeae-0585d81fd631"
      },
      "execution_count": 252,
      "outputs": [
        {
          "output_type": "stream",
          "name": "stdout",
          "text": [
            "Accuracy Score for K Nearest Neighbors is: 79.01666666666667\n"
          ]
        }
      ]
    },
    {
      "cell_type": "code",
      "source": [
        "plt.figure(figsize=(5,5))\n",
        "ConfMatrix = confusion_matrix(y_test,y_predict)\n",
        "sns.heatmap(ConfMatrix,annot=True, cmap=\"OrRd_r\", fmt=\"d\", \n",
        "            xticklabels = ['Non-default', 'Default'], \n",
        "            yticklabels = ['Non-default', 'Default'])\n",
        "plt.ylabel('True label')\n",
        "plt.xlabel('Predicted label')\n",
        "plt.title(\"Confusion Matrix - K Nearest Neighbors\")"
      ],
      "metadata": {
        "colab": {
          "base_uri": "https://localhost:8080/",
          "height": 367
        },
        "id": "tJbzba2VNU4d",
        "outputId": "0a2dcd41-2bfb-47b1-b2de-cc7a089cdb91"
      },
      "execution_count": 260,
      "outputs": [
        {
          "output_type": "execute_result",
          "data": {
            "text/plain": [
              "Text(0.5, 1.0, 'Confusion Matrix - K Nearest Neighbors')"
            ]
          },
          "metadata": {},
          "execution_count": 260
        },
        {
          "output_type": "display_data",
          "data": {
            "text/plain": [
              "<Figure size 360x360 with 2 Axes>"
            ],
            "image/png": "[encoded data removed]"
          },
          "metadata": {
            "needs_background": "light"
          }
        }
      ]
    },
    {
      "cell_type": "code",
      "source": [
        "print(\"K NEAREST NEIGHBORS\")\n",
        "print(classification_report(y_test, y_predict))"
      ],
      "metadata": {
        "colab": {
          "base_uri": "https://localhost:8080/"
        },
        "id": "ixdLanFfKzTK",
        "outputId": "6cb03e87-a010-4e7f-e6d1-9541e5c5fb97"
      },
      "execution_count": 253,
      "outputs": [
        {
          "output_type": "stream",
          "name": "stdout",
          "text": [
            "K NEAREST NEIGHBORS\n",
            "              precision    recall  f1-score   support\n",
            "\n",
            "           0       0.83      0.92      0.87      4648\n",
            "           1       0.56      0.35      0.43      1352\n",
            "\n",
            "    accuracy                           0.79      6000\n",
            "   macro avg       0.69      0.63      0.65      6000\n",
            "weighted avg       0.77      0.79      0.77      6000\n",
            "\n"
          ]
        }
      ]
    },
    {
      "cell_type": "markdown",
      "source": [
        "## **INFERENCE:**\n",
        "\n",
        "    Overall accuracy of the model is decreased for K Nearest Neighbor as compared to previous model.\n",
        "    Slight increase in the recall about 0.35.\n"
      ],
      "metadata": {
        "id": "a_WigFNzLlnz"
      }
    },
    {
      "cell_type": "markdown",
      "source": [
        "## **Decision Tree Classifier**"
      ],
      "metadata": {
        "id": "rLgG9rHhN5M8"
      }
    },
    {
      "cell_type": "code",
      "source": [
        "tree=DecisionTreeClassifier()\n",
        " \n",
        "tree.fit(x_train,y_train)\n"
      ],
      "metadata": {
        "colab": {
          "base_uri": "https://localhost:8080/"
        },
        "id": "f0_dJZBRN-5T",
        "outputId": "57ca686c-fa44-4649-c0f7-07d50420bda9"
      },
      "execution_count": 258,
      "outputs": [
        {
          "output_type": "execute_result",
          "data": {
            "text/plain": [
              "DecisionTreeClassifier()"
            ]
          },
          "metadata": {},
          "execution_count": 258
        }
      ]
    },
    {
      "cell_type": "code",
      "source": [
        "ypredict=tree.predict(x_test)\n",
        "DTCScore = accuracy_score(ypredict,y_test)*100\n",
        "print(\"Accuracy Score for Decision Tree Classifier is:\", DTCScore)\n"
      ],
      "metadata": {
        "colab": {
          "base_uri": "https://localhost:8080/"
        },
        "id": "VBhJZyyBONr4",
        "outputId": "d52b4061-1dd3-4eea-dea3-b8f8e1101c42"
      },
      "execution_count": 259,
      "outputs": [
        {
          "output_type": "stream",
          "name": "stdout",
          "text": [
            "Accuracy Score for Decision Tree Classifier is: 72.0\n"
          ]
        }
      ]
    },
    {
      "cell_type": "code",
      "source": [
        "plt.figure(figsize=(5,5))\n",
        "ConfMatrix = confusion_matrix(y_test,ypredict)\n",
        "sns.heatmap(ConfMatrix,annot=True, cmap=\"Blues_r\", fmt=\"d\", \n",
        "            xticklabels = ['Non-default', 'Default'], \n",
        "            yticklabels = ['Non-default', 'Default'])\n",
        "plt.ylabel('True label')\n",
        "plt.xlabel('Predicted label')\n",
        "plt.title(\"Confusion Matrix - Decision Tree Classifier\")"
      ],
      "metadata": {
        "colab": {
          "base_uri": "https://localhost:8080/",
          "height": 367
        },
        "id": "S-rtateuPCSI",
        "outputId": "97fee8c2-a9a7-49b1-fa23-bd4f00b83845"
      },
      "execution_count": 263,
      "outputs": [
        {
          "output_type": "execute_result",
          "data": {
            "text/plain": [
              "Text(0.5, 1.0, 'Confusion Matrix - Decision Tree Classifier')"
            ]
          },
          "metadata": {},
          "execution_count": 263
        },
        {
          "output_type": "display_data",
          "data": {
            "text/plain": [
              "<Figure size 360x360 with 2 Axes>"
            ],
            "image/png": "[encoded data removed]"
          },
          "metadata": {
            "needs_background": "light"
          }
        }
      ]
    },
    {
      "cell_type": "code",
      "source": [
        "print(\"DECSION TREE CLASSIFIER\")\n",
        "print(classification_report(y_test, ypredict))"
      ],
      "metadata": {
        "colab": {
          "base_uri": "https://localhost:8080/"
        },
        "id": "PEsXj0EYPKuL",
        "outputId": "eb2558d9-cb9e-4a31-c182-399d9b578e3c"
      },
      "execution_count": 262,
      "outputs": [
        {
          "output_type": "stream",
          "name": "stdout",
          "text": [
            "DECSION TREE CLASSIFIER\n",
            "              precision    recall  f1-score   support\n",
            "\n",
            "           0       0.83      0.80      0.82      4648\n",
            "           1       0.39      0.44      0.41      1352\n",
            "\n",
            "    accuracy                           0.72      6000\n",
            "   macro avg       0.61      0.62      0.61      6000\n",
            "weighted avg       0.73      0.72      0.73      6000\n",
            "\n"
          ]
        }
      ]
    },
    {
      "cell_type": "markdown",
      "source": [
        "## **INFERENCE:**\n",
        "   \n",
        "    Overall accuracy score for Decision Tree Classifier is about 72%.\n",
        "    Whereas the recall for the model has been increased about 0.44."
      ],
      "metadata": {
        "id": "58O-1Mm9PWF8"
      }
    },
    {
      "cell_type": "markdown",
      "source": [
        "## **Support Vector Machine**"
      ],
      "metadata": {
        "id": "cviuo1MGQ41_"
      }
    },
    {
      "cell_type": "code",
      "source": [
        "vector= svm.SVC(kernel='rbf', gamma='scale')\n",
        "vector.fit(x_train, y_train)\n",
        "\n"
      ],
      "metadata": {
        "colab": {
          "base_uri": "https://localhost:8080/"
        },
        "id": "JMfJqALKRBjY",
        "outputId": "18d6a6db-4816-49ac-8498-6a1e10893325"
      },
      "execution_count": 267,
      "outputs": [
        {
          "output_type": "execute_result",
          "data": {
            "text/plain": [
              "SVC()"
            ]
          },
          "metadata": {},
          "execution_count": 267
        }
      ]
    },
    {
      "cell_type": "code",
      "source": [
        "pred_y = vector.predict(x_test)\n",
        "SVMScore = accuracy_score(pred_y,y_test)*100\n",
        "print(\"Accuracy Score for Support Vector Machine is:\", SVMScore)"
      ],
      "metadata": {
        "colab": {
          "base_uri": "https://localhost:8080/"
        },
        "id": "P41YVAchRBmy",
        "outputId": "e6eab7fe-3065-4d5f-cf61-29c5795d1d6f"
      },
      "execution_count": 270,
      "outputs": [
        {
          "output_type": "stream",
          "name": "stdout",
          "text": [
            "Accuracy Score for Support Vector Machine is: 81.83333333333334\n"
          ]
        }
      ]
    },
    {
      "cell_type": "code",
      "source": [
        "plt.figure(figsize=(5,5))\n",
        "ConfMatrix = confusion_matrix(y_test,pred_y)\n",
        "sns.heatmap(ConfMatrix,annot=True, cmap=\"Blues\", fmt=\"d\", \n",
        "            xticklabels = ['Non-default', 'Default'], \n",
        "            yticklabels = ['Non-default', 'Default'])\n",
        "plt.ylabel('True label')\n",
        "plt.xlabel('Predicted label')\n",
        "plt.title(\"Confusion Matrix - Support Vector Machine\")"
      ],
      "metadata": {
        "colab": {
          "base_uri": "https://localhost:8080/",
          "height": 367
        },
        "id": "LQ9xj9yCR1bP",
        "outputId": "3725f060-a918-417f-d656-3d5b676c8cd6"
      },
      "execution_count": 271,
      "outputs": [
        {
          "output_type": "execute_result",
          "data": {
            "text/plain": [
              "Text(0.5, 1.0, 'Confusion Matrix - Support Vector Machine')"
            ]
          },
          "metadata": {},
          "execution_count": 271
        },
        {
          "output_type": "display_data",
          "data": {
            "text/plain": [
              "<Figure size 360x360 with 2 Axes>"
            ],
            "image/png": "[encoded data removed]"
          },
          "metadata": {
            "needs_background": "light"
          }
        }
      ]
    },
    {
      "cell_type": "code",
      "source": [
        "print(\"SUPPORT VECTOR MACHINE\")\n",
        "print(classification_report(y_test, pred_y))"
      ],
      "metadata": {
        "colab": {
          "base_uri": "https://localhost:8080/"
        },
        "id": "8pMQzbbdR8I2",
        "outputId": "82c4ae26-363c-47d9-a31c-255ed3338ff7"
      },
      "execution_count": 272,
      "outputs": [
        {
          "output_type": "stream",
          "name": "stdout",
          "text": [
            "SUPPORT VECTOR MACHINE\n",
            "              precision    recall  f1-score   support\n",
            "\n",
            "           0       0.83      0.96      0.89      4648\n",
            "           1       0.71      0.33      0.45      1352\n",
            "\n",
            "    accuracy                           0.82      6000\n",
            "   macro avg       0.77      0.65      0.67      6000\n",
            "weighted avg       0.80      0.82      0.79      6000\n",
            "\n"
          ]
        }
      ]
    },
    {
      "cell_type": "markdown",
      "source": [
        "## **INFERENCE:**\n",
        "   \n",
        "    Accuracy of the model for Support Vector Machine is 82% which is greater than all the previous model.\n",
        "    Predicted value for default is decreased."
      ],
      "metadata": {
        "id": "EKSpccTMVTs2"
      }
    },
    {
      "cell_type": "markdown",
      "source": [
        "# **ADA Boost**"
      ],
      "metadata": {
        "id": "xypvKG33WLOc"
      }
    },
    {
      "cell_type": "code",
      "source": [
        "boost=AdaBoostClassifier(n_estimators=100,random_state=10)\n",
        "\n",
        "boost.fit(x_train,y_train)\n",
        "\n"
      ],
      "metadata": {
        "colab": {
          "base_uri": "https://localhost:8080/"
        },
        "id": "ky-hdO33WQ9R",
        "outputId": "bfc9d999-0c2e-4269-f876-5062e2c1d15d"
      },
      "execution_count": 275,
      "outputs": [
        {
          "output_type": "execute_result",
          "data": {
            "text/plain": [
              "AdaBoostClassifier(n_estimators=100, random_state=10)"
            ]
          },
          "metadata": {},
          "execution_count": 275
        }
      ]
    },
    {
      "cell_type": "code",
      "source": [
        "y_pr=boost.predict(x_test)\n",
        "ADABScore = accuracy_score(y_pr,y_test)*100\n",
        "print(\"Accuracy Score for ADA Boost is:\", ADABScore)"
      ],
      "metadata": {
        "colab": {
          "base_uri": "https://localhost:8080/"
        },
        "id": "UavJEhaqWRAl",
        "outputId": "8a71c58d-e6c6-4312-d0a0-c6b90e43f25a"
      },
      "execution_count": 276,
      "outputs": [
        {
          "output_type": "stream",
          "name": "stdout",
          "text": [
            "Accuracy Score for ADA Boost is: 81.46666666666667\n"
          ]
        }
      ]
    },
    {
      "cell_type": "code",
      "source": [
        "plt.figure(figsize=(5,5))\n",
        "ConfMatrix = confusion_matrix(y_test,y_pr)\n",
        "sns.heatmap(ConfMatrix,annot=True, cmap=\"Greens\", fmt=\"d\", \n",
        "            xticklabels = ['Non-default', 'Default'], \n",
        "            yticklabels = ['Non-default', 'Default'])\n",
        "plt.ylabel('True label')\n",
        "plt.xlabel('Predicted label')\n",
        "plt.title(\"Confusion Matrix - ADA Boost\")"
      ],
      "metadata": {
        "colab": {
          "base_uri": "https://localhost:8080/",
          "height": 367
        },
        "id": "MAtFtH9aWzsG",
        "outputId": "5ef4cce8-6bcc-44b1-865f-e146ebd94aa1"
      },
      "execution_count": 277,
      "outputs": [
        {
          "output_type": "execute_result",
          "data": {
            "text/plain": [
              "Text(0.5, 1.0, 'Confusion Matrix - ADA Boost')"
            ]
          },
          "metadata": {},
          "execution_count": 277
        },
        {
          "output_type": "display_data",
          "data": {
            "text/plain": [
              "<Figure size 360x360 with 2 Axes>"
            ],
            "image/png": "[encoded data removed]"
          },
          "metadata": {
            "needs_background": "light"
          }
        }
      ]
    },
    {
      "cell_type": "code",
      "source": [
        "print(\"ADA BOOST\")\n",
        "print(classification_report(y_test, y_pr))\n"
      ],
      "metadata": {
        "colab": {
          "base_uri": "https://localhost:8080/"
        },
        "id": "W2340nKgWzvp",
        "outputId": "b00a9c8c-9d17-4df3-e053-81fadf0cb5e2"
      },
      "execution_count": 278,
      "outputs": [
        {
          "output_type": "stream",
          "name": "stdout",
          "text": [
            "ADA BOOST\n",
            "              precision    recall  f1-score   support\n",
            "\n",
            "           0       0.83      0.96      0.89      4648\n",
            "           1       0.69      0.32      0.44      1352\n",
            "\n",
            "    accuracy                           0.81      6000\n",
            "   macro avg       0.76      0.64      0.66      6000\n",
            "weighted avg       0.80      0.81      0.79      6000\n",
            "\n"
          ]
        }
      ]
    },
    {
      "cell_type": "markdown",
      "source": [
        "## **INFERENCE:**\n",
        "  \n",
        "    Accuracy for ADA Boost is about 81.46%.\n",
        "    Predicted value for default is slightly decreased compared to Support Vector Machine."
      ],
      "metadata": {
        "id": "ndznODaYXKly"
      }
    },
    {
      "cell_type": "markdown",
      "source": [
        "## **Gradient Boosting Classifier**"
      ],
      "metadata": {
        "id": "w7R3Q6ziXybI"
      }
    },
    {
      "cell_type": "code",
      "source": [
        "booster = GradientBoostingClassifier()\n",
        "booster.fit(x_train,y_train)\n"
      ],
      "metadata": {
        "colab": {
          "base_uri": "https://localhost:8080/"
        },
        "id": "4sMsess7X2N0",
        "outputId": "ac2958e9-3e13-4c7c-c5d0-8e32427ed9bc"
      },
      "execution_count": 280,
      "outputs": [
        {
          "output_type": "execute_result",
          "data": {
            "text/plain": [
              "GradientBoostingClassifier()"
            ]
          },
          "metadata": {},
          "execution_count": 280
        }
      ]
    },
    {
      "cell_type": "code",
      "source": [
        "y_hat=booster.predict(x_test)\n",
        "GBCScore = accuracy_score(y_test,y_hat)*100\n",
        "print(\"Accuracy Score for Gradient Boosting Classifier:\", GBCScore)"
      ],
      "metadata": {
        "colab": {
          "base_uri": "https://localhost:8080/"
        },
        "id": "irgaJee9YBZG",
        "outputId": "8b84270e-af7c-43f4-f76f-b5b31c78b23d"
      },
      "execution_count": 284,
      "outputs": [
        {
          "output_type": "stream",
          "name": "stdout",
          "text": [
            "Accuracy Score for Gradient Boosting Classifier: 82.25\n"
          ]
        }
      ]
    },
    {
      "cell_type": "code",
      "source": [
        "plt.figure(figsize=(5,5))\n",
        "ConfMatrix = confusion_matrix(y_test,y_hat)\n",
        "sns.heatmap(ConfMatrix,annot=True, cmap=\"Greens_r\", fmt=\"d\", \n",
        "            xticklabels = ['Non-default', 'Default'], \n",
        "            yticklabels = ['Non-default', 'Default'])\n",
        "plt.ylabel('True label')\n",
        "plt.xlabel('Predicted label')\n",
        "plt.title(\"Confusion Matrix - Gradient Boosting Classifier\")"
      ],
      "metadata": {
        "colab": {
          "base_uri": "https://localhost:8080/",
          "height": 367
        },
        "id": "L_pmacWOZZlW",
        "outputId": "9af7b25d-4cc9-42bb-9ca9-0bd4fb1e5e98"
      },
      "execution_count": 285,
      "outputs": [
        {
          "output_type": "execute_result",
          "data": {
            "text/plain": [
              "Text(0.5, 1.0, 'Confusion Matrix - Gradient Boosting Classifier')"
            ]
          },
          "metadata": {},
          "execution_count": 285
        },
        {
          "output_type": "display_data",
          "data": {
            "text/plain": [
              "<Figure size 360x360 with 2 Axes>"
            ],
            "image/png": "[encoded data removed]"
          },
          "metadata": {
            "needs_background": "light"
          }
        }
      ]
    },
    {
      "cell_type": "code",
      "source": [
        "print(\"GRADIENT BOOSTING CLASSIFIER\")\n",
        "print(classification_report(y_test, y_hat))"
      ],
      "metadata": {
        "colab": {
          "base_uri": "https://localhost:8080/"
        },
        "id": "R9__UD83ZZou",
        "outputId": "179b5643-9caf-4e1f-e4c5-d3dbecd01ed1"
      },
      "execution_count": 286,
      "outputs": [
        {
          "output_type": "stream",
          "name": "stdout",
          "text": [
            "GRADIENT BOOSTING CLASSIFIER\n",
            "              precision    recall  f1-score   support\n",
            "\n",
            "           0       0.84      0.96      0.89      4648\n",
            "           1       0.71      0.36      0.48      1352\n",
            "\n",
            "    accuracy                           0.82      6000\n",
            "   macro avg       0.77      0.66      0.69      6000\n",
            "weighted avg       0.81      0.82      0.80      6000\n",
            "\n"
          ]
        }
      ]
    },
    {
      "cell_type": "markdown",
      "source": [
        "## **INFERENCE:**\n",
        "\n",
        "    Overall accuracy for Gradient Bossting Classifier is 82.25%.\n",
        "    "
      ],
      "metadata": {
        "id": "SVqKkzszZyDa"
      }
    },
    {
      "cell_type": "markdown",
      "source": [
        "## **Random Forest Classifier**"
      ],
      "metadata": {
        "id": "9rOhUTySD7wn"
      }
    },
    {
      "cell_type": "code",
      "source": [
        "classifier=RandomForestClassifier(n_estimators=200)\n",
        "classifier.fit(x_train,y_train)\n"
      ],
      "metadata": {
        "colab": {
          "base_uri": "https://localhost:8080/"
        },
        "id": "uSlZLFT4Ygyy",
        "outputId": "de799412-04f4-4e3c-cf8e-f972fe406fc2"
      },
      "execution_count": 282,
      "outputs": [
        {
          "output_type": "execute_result",
          "data": {
            "text/plain": [
              "RandomForestClassifier(n_estimators=200)"
            ]
          },
          "metadata": {},
          "execution_count": 282
        }
      ]
    },
    {
      "cell_type": "code",
      "source": [
        "ypred=classifier.predict(x_test)\n",
        "RFCScore = accuracy_score(ypred,y_test)*100\n",
        "print(\"Accuracy Score for Random Forest Classifier:\", RFCScore)"
      ],
      "metadata": {
        "colab": {
          "base_uri": "https://localhost:8080/"
        },
        "id": "64u-hBwHY_yH",
        "outputId": "fc22521a-6043-4688-fed6-b6a4c7b2672b"
      },
      "execution_count": 287,
      "outputs": [
        {
          "output_type": "stream",
          "name": "stdout",
          "text": [
            "Accuracy Score for Random Forest Classifier: 81.73333333333333\n"
          ]
        }
      ]
    },
    {
      "cell_type": "code",
      "source": [
        "plt.figure(figsize=(5,5))\n",
        "ConfMatrix = confusion_matrix(y_test,ypred)\n",
        "sns.heatmap(ConfMatrix,annot=True, cmap=\"Reds\", fmt=\"d\", \n",
        "            xticklabels = ['Non-default', 'Default'], \n",
        "            yticklabels = ['Non-default', 'Default'])\n",
        "plt.ylabel('True label')\n",
        "plt.xlabel('Predicted label')\n",
        "plt.title(\"Confusion Matrix - Random Forest Classifier\")"
      ],
      "metadata": {
        "colab": {
          "base_uri": "https://localhost:8080/",
          "height": 367
        },
        "id": "-AwHTmnJQAro",
        "outputId": "ed258c53-ba8b-49a6-d465-d1ca0c4d2d89"
      },
      "execution_count": 289,
      "outputs": [
        {
          "output_type": "execute_result",
          "data": {
            "text/plain": [
              "Text(0.5, 1.0, 'Confusion Matrix - Random Forest Classifier')"
            ]
          },
          "metadata": {},
          "execution_count": 289
        },
        {
          "output_type": "display_data",
          "data": {
            "text/plain": [
              "<Figure size 360x360 with 2 Axes>"
            ],
            "image/png": "[encoded data removed]"
          },
          "metadata": {
            "needs_background": "light"
          }
        }
      ]
    },
    {
      "cell_type": "code",
      "source": [
        "print(\"RANDOM FOREST CLASSIFIER\")\n",
        "print(classification_report(y_test, ypred))\n",
        "print()"
      ],
      "metadata": {
        "colab": {
          "base_uri": "https://localhost:8080/"
        },
        "id": "3-qgmtpsEQrK",
        "outputId": "b339df59-254e-45ba-8eda-a508c523a3b4"
      },
      "execution_count": 255,
      "outputs": [
        {
          "output_type": "stream",
          "name": "stdout",
          "text": [
            "RANDOM FOREST CLASSIFIER\n",
            "              precision    recall  f1-score   support\n",
            "\n",
            "           0       0.83      0.94      0.88      4648\n",
            "           1       0.63      0.32      0.43      1352\n",
            "\n",
            "    accuracy                           0.80      6000\n",
            "   macro avg       0.73      0.63      0.65      6000\n",
            "weighted avg       0.78      0.80      0.78      6000\n",
            "\n",
            "\n"
          ]
        }
      ]
    },
    {
      "cell_type": "markdown",
      "source": [
        "## **INFERENCE:**\n",
        "    \n",
        "    Overall accuracy obtained from Random Forest Classifier is 80%. \n",
        "    Model is biased towards 0 i.e Non Default Payment, may be due to the imbalanced dataset."
      ],
      "metadata": {
        "id": "ChKzILRHHvXq"
      }
    },
    {
      "cell_type": "markdown",
      "source": [
        "# **Finding the best Model**"
      ],
      "metadata": {
        "id": "48s2CnOqabdP"
      }
    },
    {
      "cell_type": "code",
      "source": [
        "print(\"Accuracy Score for Decision Tree Classifier is:\", DTCScore)\n",
        "print(\"Accuracy Score for K Nearest Neighbors is:\", KNNScore)\n",
        "print(\"Accuracy Score for Logistic Regression is :\", LRScore)\n",
        "print(\"Accuracy Score for Random Forest Classifier:\", RFCScore)\n",
        "print(\"Accuracy Score for Support Vector Machine is:\", SVMScore)\n",
        "print(\"Accuracy Score for ADA Boost is:\", ADABScore)\n",
        "print(\"Accuracy Score for Gradient Boosting Classifier:\", GBCScore)"
      ],
      "metadata": {
        "colab": {
          "base_uri": "https://localhost:8080/"
        },
        "id": "SottzJ8SGdl2",
        "outputId": "2c338a58-08b7-46d0-9ef6-a1ef15f565bf"
      },
      "execution_count": 291,
      "outputs": [
        {
          "output_type": "stream",
          "name": "stdout",
          "text": [
            "Accuracy Score for Decision Tree Classifier is: 72.0\n",
            "Accuracy Score for K Nearest Neighbors is: 79.01666666666667\n",
            "Accuracy Score for Logistic Regression is : 81.08333333333333\n",
            "Accuracy Score for Random Forest Classifier: 81.73333333333333\n",
            "Accuracy Score for Support Vector Machine is: 81.83333333333334\n",
            "Accuracy Score for ADA Boost is: 81.46666666666667\n",
            "Accuracy Score for Gradient Boosting Classifier: 82.25\n"
          ]
        }
      ]
    },
    {
      "cell_type": "markdown",
      "source": [
        "## **INFERENCE:**\n",
        "\n",
        "    Using Gradient Boosting classifier, we can predict with ~82.25% accuracy, whether a customer is likely to default next month.\n",
        "    Least model accuracy is obtained from Decision Tree Classifier."
      ],
      "metadata": {
        "id": "F_l6sBwebgdZ"
      }
    },
    {
      "cell_type": "markdown",
      "source": [
        "## **Feature Importance Score**"
      ],
      "metadata": {
        "id": "ivkEcHPUcLlp"
      }
    },
    {
      "cell_type": "code",
      "source": [
        "feature_scores = pd.Series(booster.feature_importances_,index=X_train.columns).sort_values(ascending=False)\n",
        "feature_scores = feature_scores*100\n",
        "feature_scores"
      ],
      "metadata": {
        "colab": {
          "base_uri": "https://localhost:8080/"
        },
        "id": "Ez9UbnAgfZsz",
        "outputId": "3061d2e6-a989-481c-dcef-39be3e1ea627"
      },
      "execution_count": 314,
      "outputs": [
        {
          "output_type": "execute_result",
          "data": {
            "text/plain": [
              "PAY_0        60.883120\n",
              "PAY_2         8.942055\n",
              "BILL_AMT1     3.663313\n",
              "PAY_3         3.494628\n",
              "LIMIT_BAL     2.737531\n",
              "PAY_AMT1      2.289751\n",
              "PAY_AMT3      2.200078\n",
              "PAY_AMT2      2.083978\n",
              "PAY_6         1.827041\n",
              "PAY_4         1.677473\n",
              "PAY_5         1.515921\n",
              "ID            1.078880\n",
              "PAY_AMT6      0.896732\n",
              "PAY_AMT4      0.846583\n",
              "AGE           0.805816\n",
              "EDUCATION     0.795620\n",
              "BILL_AMT4     0.792369\n",
              "BILL_AMT2     0.773898\n",
              "BILL_AMT5     0.641413\n",
              "BILL_AMT3     0.568139\n",
              "BILL_AMT6     0.515299\n",
              "PAY_AMT5      0.382996\n",
              "MARRIAGE      0.375969\n",
              "SEX           0.211398\n",
              "dtype: float64"
            ]
          },
          "metadata": {},
          "execution_count": 314
        }
      ]
    },
    {
      "cell_type": "code",
      "source": [
        "plt.figure(figsize=(8,8))\n",
        "sns.barplot(x=feature_scores,y=feature_scores.index)\n",
        "plt.show()"
      ],
      "metadata": {
        "colab": {
          "base_uri": "https://localhost:8080/",
          "height": 483
        },
        "id": "cMUzglkYcgOX",
        "outputId": "37906863-61da-4ef8-b0a1-9e95c735dca5"
      },
      "execution_count": 315,
      "outputs": [
        {
          "output_type": "display_data",
          "data": {
            "text/plain": [
              "<Figure size 576x576 with 1 Axes>"
            ],
            "image/png": "[encoded data removed]"
          },
          "metadata": {
            "needs_background": "light"
          }
        }
      ]
    },
    {
      "cell_type": "markdown",
      "source": [
        "## **INFERENCE:**\n",
        "\n",
        "    PAY_0, PAY_2 has the highest score in Feature Importance to Predict the default payment next month.\n",
        "    Marriage and Sex is the most least Important Feature compared to other variables"
      ],
      "metadata": {
        "id": "Gok4eYg-fq5A"
      }
    },
    {
      "cell_type": "markdown",
      "source": [
        "# **Training the best model with feature importance**"
      ],
      "metadata": {
        "id": "2F7e40OXgxqs"
      }
    },
    {
      "cell_type": "code",
      "source": [
        "important_features=feature_scores.loc[feature_scores >2]\n",
        "important_features"
      ],
      "metadata": {
        "colab": {
          "base_uri": "https://localhost:8080/"
        },
        "id": "vdC6mxuZfo9b",
        "outputId": "67f0fdb1-509c-4c36-a5bb-7d4384a48ab6"
      },
      "execution_count": 316,
      "outputs": [
        {
          "output_type": "execute_result",
          "data": {
            "text/plain": [
              "PAY_0        60.883120\n",
              "PAY_2         8.942055\n",
              "BILL_AMT1     3.663313\n",
              "PAY_3         3.494628\n",
              "LIMIT_BAL     2.737531\n",
              "PAY_AMT1      2.289751\n",
              "PAY_AMT3      2.200078\n",
              "PAY_AMT2      2.083978\n",
              "dtype: float64"
            ]
          },
          "metadata": {},
          "execution_count": 316
        }
      ]
    },
    {
      "cell_type": "code",
      "source": [
        "x=df[important_features.index]"
      ],
      "metadata": {
        "id": "918TeuYCg6q8"
      },
      "execution_count": 317,
      "outputs": []
    },
    {
      "cell_type": "code",
      "source": [
        "X_train,X_test,y_train,y_test=train_test_split(x,Y,test_size=0.2, random_state=10)"
      ],
      "metadata": {
        "id": "Ax85NSSchDa_"
      },
      "execution_count": 332,
      "outputs": []
    },
    {
      "cell_type": "code",
      "source": [
        "new_model = GradientBoostingClassifier()\n",
        "new_model.fit(X_train,y_train)\n"
      ],
      "metadata": {
        "colab": {
          "base_uri": "https://localhost:8080/"
        },
        "id": "7rik4OcjhHQ9",
        "outputId": "4927982d-e63e-4e8f-e382-e336b925a430"
      },
      "execution_count": 333,
      "outputs": [
        {
          "output_type": "execute_result",
          "data": {
            "text/plain": [
              "GradientBoostingClassifier()"
            ]
          },
          "metadata": {},
          "execution_count": 333
        }
      ]
    },
    {
      "cell_type": "code",
      "source": [
        "yPredicted=new_model.predict(X_test)\n",
        "GBC_AccuracyScore = accuracy_score(y_test,yPredicted)*100\n",
        "print(\"Accuracy Score for Gradient Boosting Classifier:\", GBC_AccuracyScore)"
      ],
      "metadata": {
        "colab": {
          "base_uri": "https://localhost:8080/"
        },
        "id": "mvCyQYBAhWsH",
        "outputId": "879d2ffe-efc7-4c6a-961c-34589c3cbd00"
      },
      "execution_count": 334,
      "outputs": [
        {
          "output_type": "stream",
          "name": "stdout",
          "text": [
            "Accuracy Score for Gradient Boosting Classifier: 82.31666666666668\n"
          ]
        }
      ]
    },
    {
      "cell_type": "markdown",
      "source": [
        "# **INFERENCE:**\n",
        "    By taking important Feature with the score we can achieve Overall Accuracy for Gradient Boosting Classifier is 82.3%\n",
        "    Which also enhance to maintain Strong Correlation with  Target the Default Payment next month."
      ],
      "metadata": {
        "id": "jbCOTPRBiK-A"
      }
    }
  ]
}